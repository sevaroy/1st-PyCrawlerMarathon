{
 "cells": [
  {
   "cell_type": "markdown",
   "metadata": {},
   "source": [
    "# 東森新聞雲爬蟲練習\n",
    "## 練習從東森新聞雲網站中，爬取新聞摘要及詳細內容。\n",
    "## 學習利用Selenium模擬人為操作，更新動態網頁後爬取新聞內容。"
   ]
  },
  {
   "cell_type": "code",
   "execution_count": 1,
   "metadata": {},
   "outputs": [],
   "source": [
    "import requests\n",
    "import time\n",
    "from bs4 import BeautifulSoup\n",
    "from selenium import webdriver\n",
    "from selenium.webdriver.common.keys import Keys"
   ]
  },
  {
   "cell_type": "markdown",
   "metadata": {},
   "source": [
    "### 以財經新聞為例，先連結到財經新聞網頁，複製其URL。"
   ]
  },
  {
   "cell_type": "code",
   "execution_count": 2,
   "metadata": {},
   "outputs": [],
   "source": [
    "ETtoday_url = \"https://www.ettoday.net/news/focus/%E8%B2%A1%E7%B6%93/\"  #財經新聞"
   ]
  },
  {
   "cell_type": "markdown",
   "metadata": {},
   "source": [
    "### 用Selenium打開一個瀏覽器，連結到網站。然後模擬下拉網頁的動作，讓網頁完成更新，再處理後續動作。"
   ]
  },
  {
   "cell_type": "code",
   "execution_count": 3,
   "metadata": {},
   "outputs": [
    {
     "name": "stdout",
     "output_type": "stream",
     "text": [
      "網頁更新中...\n",
      "網頁更新中...\n",
      "網頁更新中...\n",
      "網頁更新中...\n",
      "網頁更新中...\n",
      "網頁更新中...\n",
      "網頁更新中...\n",
      "網頁更新中...\n",
      "到達頁面底端\n"
     ]
    }
   ],
   "source": [
    "browser = webdriver.Chrome('./chromedriver')\n",
    "browser.get(ETtoday_url)  # 打開瀏覽器並連到東森新聞雲網頁\n",
    "\n",
    "SCROLL_PAUSE_TIME = 1\n",
    "\n",
    "#\n",
    "# 以下是用Selenium模擬下拉網頁動作，讓網頁更新\n",
    "#\n",
    "last_height = browser.execute_script(\"window.scrollTo(0, document.body.scrollHeight);\")\n",
    "count = 0\n",
    "while True:\n",
    "    time.sleep(2)\n",
    "    html_source = browser.page_source\n",
    "    soup = BeautifulSoup(html_source, \"html5lib\")\n",
    "    pieces = soup.find('div',{'class':'part_pictxt_3 lazyload'}).find_all('div',{'class':'piece clearfix'})\n",
    "    if len(pieces) != count:\n",
    "        count = len(pieces)\n",
    "        print('網頁更新中...')\n",
    "        browser.execute_script(\"window.scrollTo(0, document.body.scrollHeight),10000;\")\n",
    "    else:\n",
    "        print('到達頁面底端')\n",
    "        break    \n",
    "    '''\n",
    "    Your code here\n",
    "    \n",
    "    提示：可參考以下的Stack Overflow: \n",
    "    https://stackoverflow.com/questions/48850974/selenium-scroll-to-end-of-page-indynamically-loading-webpage/48851166\n",
    "    '''"
   ]
  },
  {
   "cell_type": "markdown",
   "metadata": {},
   "source": [
    "### 到這裡網頁已經更新完畢，所有的新聞都已經出現在網頁上。接下來做爬取收集新聞的動作。"
   ]
  },
  {
   "cell_type": "code",
   "execution_count": 4,
   "metadata": {},
   "outputs": [],
   "source": [
    "#\n",
    "# 這裡先建立一個函數，其功能是連到外部連結，並爬取新聞內容。\n",
    "#\n",
    "def getNewsDetailContent(link_url):\n",
    "    resp = requests.get(link_url)\n",
    "    resp.encoding = 'utf-8'\n",
    "    #print(resp.text)\n",
    "\n",
    "    soup = BeautifulSoup(resp.text, 'lxml')\n",
    "    news_content = soup.find(\"div\", attrs={'class':'story'}).find_all(\"p\")\n",
    "    for p in news_content:\n",
    "        \"\"\"\n",
    "        .string屬性說明：\n",
    "        (1) 若當前tag節點底下沒有其他tag子節點，會直接抓取內容(返回\"NavigableString\")\n",
    "        (2) 若當前tag節點底下只有唯一的一個tag子節點，也會直接抓取tag子節點的內容(返回\"NavigableString\")\n",
    "        (3) 但若當前tag節點底下還有很多個tag子節點，.string就無法判斷，(返回\"None\")\n",
    "        \"\"\"\n",
    "        if ((p.string) is not None):\n",
    "            print(p.string)"
   ]
  },
  {
   "cell_type": "markdown",
   "metadata": {},
   "source": [
    "### 解析HTML並萃取新聞摘要，若有外部的連結，再連到外部連結並把詳細新聞內容抓取下來。"
   ]
  },
  {
   "cell_type": "code",
   "execution_count": 11,
   "metadata": {},
   "outputs": [
    {
     "ename": "SyntaxError",
     "evalue": "'return' outside function (<ipython-input-11-8f47617cd3b2>, line 18)",
     "output_type": "error",
     "traceback": [
      "\u001b[0;36m  File \u001b[0;32m\"<ipython-input-11-8f47617cd3b2>\"\u001b[0;36m, line \u001b[0;32m18\u001b[0m\n\u001b[0;31m    return\u001b[0m\n\u001b[0m    ^\u001b[0m\n\u001b[0;31mSyntaxError\u001b[0m\u001b[0;31m:\u001b[0m 'return' outside function\n"
     ]
    }
   ],
   "source": [
    "# 爬取網頁內容，解析後萃取新聞摘要\n",
    "html = browser.page_source\n",
    "soup = BeautifulSoup(html, \"lxml\")\n",
    "all_news = soup.find(\"div\", attrs={'class':'block block_1 infinite_scroll'})\n",
    "\n",
    "news_block = all_news.find_all('div', attrs={'class':'piece clearfix'})\n",
    "df = []\n",
    "for i, news_item in enumerate(news_block):\n",
    "    print(\"----------------------------------------------------------------------\")\n",
    "    news_body = news_item.find('h3')\n",
    "    print(\"\\n[%d] %s\\n\" % (i, news_body.a.string))\n",
    "    \n",
    "    # \n",
    "    # 連到外部連結，擷取詳細新聞內容\n",
    "    #\n",
    "    externalLink = \"https://www.ettoday.net\" + news_body.a[\"href\"]\n",
    "    getNewsDetailContent(externalLink)\n",
    "   "
   ]
  },
  {
   "cell_type": "code",
   "execution_count": null,
   "metadata": {},
   "outputs": [],
   "source": []
  }
 ],
 "metadata": {
  "kernelspec": {
   "display_name": "Python 3",
   "language": "python",
   "name": "python3"
  },
  "language_info": {
   "codemirror_mode": {
    "name": "ipython",
    "version": 3
   },
   "file_extension": ".py",
   "mimetype": "text/x-python",
   "name": "python",
   "nbconvert_exporter": "python",
   "pygments_lexer": "ipython3",
   "version": "3.7.4"
  }
 },
 "nbformat": 4,
 "nbformat_minor": 2
}
