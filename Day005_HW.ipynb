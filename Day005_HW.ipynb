{
 "cells": [
  {
   "cell_type": "markdown",
   "metadata": {},
   "source": [
    "# API 資料串接 - 以 Dcard API 實作範例\n",
    "\n",
    "* 了解 Dcard API 使用方式與回傳內容\n",
    "* 撰寫程式存取 API 且解析 JSON 格式資料\n"
   ]
  },
  {
   "cell_type": "markdown",
   "metadata": {},
   "source": [
    "## 作業目標\n",
    "\n",
    "* 請利用 API: https://www.dcard.tw/_api/forums/pet/posts?popular=true 回答下列問題：\n",
    "\n",
    "1. 這個 API 一次會回傳幾筆資料？每一筆資料包含哪些欄位？\n",
    "2. 取出每一筆資料的「標題」、「貼文時間」、「留言人數」、「按讚人數」\n",
    "3. 計算熱門/非熱門文章的「平均留言人數」與「平均按讚人數」"
   ]
  },
  {
   "cell_type": "code",
   "execution_count": 2,
   "metadata": {},
   "outputs": [
    {
     "name": "stdout",
     "output_type": "stream",
     "text": [
      "一筆資料的欄位有:\n",
      "id\n",
      "title\n",
      "excerpt\n",
      "anonymousSchool\n",
      "anonymousDepartment\n",
      "pinned\n",
      "forumId\n",
      "replyId\n",
      "createdAt\n",
      "updatedAt\n",
      "commentCount\n",
      "likeCount\n",
      "withNickname\n",
      "tags\n",
      "topics\n",
      "meta\n",
      "forumName\n",
      "forumAlias\n",
      "gender\n",
      "school\n",
      "replyTitle\n",
      "mediaMeta\n",
      "reactions\n",
      "hidden\n",
      "customStyle\n",
      "isSuspiciousAccount\n",
      "layout\n",
      "withImages\n",
      "withVideos\n",
      "media\n",
      "reportReasonText\n",
      "postAvatar\n",
      "全部共有 30 筆資料\n"
     ]
    }
   ],
   "source": [
    "# 1. 這個 API 一次會回傳幾筆資料？每一筆資料包含哪些欄位？\n",
    "import requests\n",
    "import json\n",
    "from urllib.request import urlretrieve\n",
    "import os\n",
    "\n",
    "# 1. 這個 API 一次會回傳幾筆資料？每一筆資料包含哪些欄位？\n",
    "r = requests.get('https://www.dcard.tw/_api/forums/pet/posts?popular=true')\n",
    "r = json.loads(r.text)\n",
    "print('一筆資料的欄位有:')\n",
    "for i in r[0].keys():\n",
    "    print(i)\n",
    "    \n",
    "print('全部共有',len(r), '筆資料')"
   ]
  },
  {
   "cell_type": "code",
   "execution_count": 4,
   "metadata": {},
   "outputs": [
    {
     "name": "stdout",
     "output_type": "stream",
     "text": [
      "第 1 筆資料\n",
      "我們家的貓咪睡姿（圖多 2019-12-14T13:04:29.280Z 19 則留言， 370 個讚\n",
      "第 2 筆資料\n",
      "台中南區 狗 協尋 2019-12-14T08:40:14.301Z 9 則留言， 141 個讚\n",
      "第 3 筆資料\n",
      "#圖 勇闖耶誕城 2019-12-14T18:06:41.262Z 5 則留言， 140 個讚\n",
      "第 4 筆資料\n",
      "當貓咪的生活 2019-12-14T06:21:33.399Z 5 則留言， 104 個讚\n",
      "第 5 筆資料\n",
      "新成員小黃金阿魯 2019-12-14T18:20:41.663Z 4 則留言， 74 個讚\n",
      "第 6 筆資料\n",
      "我的小刺蝟 2019-12-14T09:09:20.390Z 0 則留言， 65 個讚\n",
      "第 7 筆資料\n",
      "厭世貓咪 2019-12-14T12:31:45.490Z 4 則留言， 31 個讚\n",
      "第 8 筆資料\n",
      "愛貓貓來哦 2019-12-14T02:52:13.001Z 0 則留言， 31 個讚\n",
      "第 9 筆資料\n",
      "老鼠給你們養真可憐 2019-12-14T07:11:15.809Z 41 則留言， 26 個讚\n",
      "第 10 筆資料\n",
      "一次要摸三隻不然很吵 2019-12-14T11:05:46.136Z 3 則留言， 22 個讚\n",
      "第 11 筆資料\n",
      "貓咪餐廳🐈❤️推薦給忙碌的你 2019-12-14T10:31:50.617Z 3 則留言， 22 個讚\n",
      "第 12 筆資料\n",
      "原來我養的是猴子呀😳 2019-12-14T06:16:19.442Z 2 則留言， 19 個讚\n",
      "第 13 筆資料\n",
      "養狗前請要做功課 2019-12-13T20:02:37.147Z 6 則留言， 16 個讚\n",
      "第 14 筆資料\n",
      "超級黏爸的傲嬌貓貓🐈 2019-12-15T00:52:33.602Z 3 則留言， 15 個讚\n",
      "第 15 筆資料\n",
      "桃園大溪狗狗走失 2019-12-14T13:11:06.874Z 0 則留言， 15 個讚\n",
      "第 16 筆資料\n",
      "#鼠 分享我最愛睡覺的秘密基地 2019-12-14T17:14:47.835Z 0 則留言， 14 個讚\n",
      "第 17 筆資料\n",
      "似曾相似的🤔🤔 2019-12-14T18:58:27.402Z 1 則留言， 10 個讚\n",
      "第 18 筆資料\n",
      "這背景也太可愛了吧！ 2019-12-14T11:37:08.613Z 5 則留言， 10 個讚\n",
      "第 19 筆資料\n",
      "不要再給我尿床啦！ 2019-12-14T08:14:39.892Z 4 則留言， 10 個讚\n",
      "第 20 筆資料\n",
      "刺蝟年齡 2019-12-14T07:32:12.376Z 0 則留言， 10 個讚\n",
      "第 21 筆資料\n",
      "悲劇！家貓被剪耳剃毛挨告不起訴 2019-12-13T21:32:18.181Z 7 則留言， 10 個讚\n",
      "第 22 筆資料\n",
      "#貓 各種奇葩照 2019-12-14T12:02:56.712Z 0 則留言， 8 個讚\n",
      "第 23 筆資料\n",
      "流浪動物能不能安樂死？ 2019-12-14T10:06:03.090Z 30 則留言， 8 個讚\n",
      "第 24 筆資料\n",
      "離家出走的兩隻狗 2019-12-14T17:47:51.087Z 1 則留言， 7 個讚\n",
      "第 25 筆資料\n",
      "hip dysplasia 奪去他自由 2019-12-14T08:43:47.950Z 3 則留言， 7 個讚\n",
      "第 26 筆資料\n",
      "家中的小老大 2019-12-14T08:20:23.378Z 1 則留言， 7 個讚\n",
      "第 27 筆資料\n",
      "我爸想喂野貓吃農藥 2019-12-15T04:20:43.807Z 7 則留言， 6 個讚\n",
      "第 28 筆資料\n",
      "台南有好心人收養貓咪嗎底下留言貓咪太多了 2019-12-14T23:22:33.728Z 20 則留言， 6 個讚\n",
      "第 29 筆資料\n",
      "桃機走失狼犬求助安置 2019-12-14T18:36:40.356Z 2 則留言， 6 個讚\n",
      "第 30 筆資料\n",
      "孔雀魚嘴內側有一條紅線 2019-12-14T04:02:44.514Z 3 則留言， 6 個讚\n"
     ]
    }
   ],
   "source": [
    "# 2. 取出每一筆資料的「標題」、「貼文時間」、「留言人數」、「按讚人數」\n",
    "\n",
    "for i,v in enumerate(r):\n",
    "    print('第',i+1,'筆資料')\n",
    "    print(v['title'], v['createdAt'], v['commentCount'],'則留言，', v['likeCount'],'個讚')\n"
   ]
  },
  {
   "cell_type": "code",
   "execution_count": 5,
   "metadata": {},
   "outputs": [
    {
     "name": "stdout",
     "output_type": "stream",
     "text": [
      "熱門文章的平均留言人數是:  6.266666666666667\n",
      "熱門文章的平均按讚人數是： 40.53333333333333\n"
     ]
    }
   ],
   "source": [
    "# 3. 計算熱門/非熱門文章的「平均留言人數」與「平均按讚人數」\n",
    "\n",
    "count = 0\n",
    "like = 0\n",
    "for i in r :\n",
    "    count = count + int(i['commentCount'])\n",
    "    like = like + int(i['likeCount'])\n",
    "print('熱門文章的平均留言人數是: ',count /len(r))\n",
    "print('熱門文章的平均按讚人數是：',like/ len(r))    "
   ]
  },
  {
   "cell_type": "code",
   "execution_count": 6,
   "metadata": {},
   "outputs": [
    {
     "name": "stdout",
     "output_type": "stream",
     "text": [
      "最新文章的平均留言人數是:  3.3666666666666667\n",
      "最新文章的平均按讚人數是： 11.833333333333334\n"
     ]
    }
   ],
   "source": [
    "n = requests.get('https://www.dcard.tw/_api/forums/pet/posts?popular=false')\n",
    "n = json.loads(n.text)\n",
    "\n",
    "count = 0\n",
    "like = 0\n",
    "for i in n:\n",
    "    count = count + int(i['commentCount'])\n",
    "    like = like + int(i['likeCount'])\n",
    "print('最新文章的平均留言人數是: ',count /len(r))\n",
    "print('最新文章的平均按讚人數是：',like/ len(r))"
   ]
  },
  {
   "cell_type": "code",
   "execution_count": null,
   "metadata": {},
   "outputs": [],
   "source": []
  }
 ],
 "metadata": {
  "kernelspec": {
   "display_name": "Python 3",
   "language": "python",
   "name": "python3"
  },
  "language_info": {
   "codemirror_mode": {
    "name": "ipython",
    "version": 3
   },
   "file_extension": ".py",
   "mimetype": "text/x-python",
   "name": "python",
   "nbconvert_exporter": "python",
   "pygments_lexer": "ipython3",
   "version": "3.7.4"
  }
 },
 "nbformat": 4,
 "nbformat_minor": 2
}
