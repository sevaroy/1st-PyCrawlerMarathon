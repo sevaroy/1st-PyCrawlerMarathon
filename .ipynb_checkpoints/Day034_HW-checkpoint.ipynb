{
 "cells": [
  {
   "cell_type": "markdown",
   "metadata": {
    "colab_type": "text",
    "id": "I8CoX4R7VoCd"
   },
   "source": [
    "# 反爬：代理伺服器/IP\n",
    "\n",
    "* 了解「IP 黑/白名單」的反爬蟲機制\n",
    "* 「IP 黑/白名單」反爬蟲的因應策略"
   ]
  },
  {
   "cell_type": "markdown",
   "metadata": {
    "colab_type": "text",
    "id": "n-3DZ_r5VoCe"
   },
   "source": [
    "## 作業目標\n",
    "\n",
    "* 目前程式中的 proxy_ips 是手動輸入的，請根據 https://free-proxy-list.net/ 寫一個可自動化抓取可用 Proxy 的 proxy_ips。\n",
    "\n",
    "\n"
   ]
  },
  {
   "cell_type": "code",
   "execution_count": 1,
   "metadata": {},
   "outputs": [],
   "source": [
    "from bs4 import BeautifulSoup\n",
    "import requests\n",
    "import random"
   ]
  },
  {
   "cell_type": "code",
   "execution_count": 2,
   "metadata": {
    "colab": {},
    "colab_type": "code",
    "id": "iny-9heBVoCf"
   },
   "outputs": [
    {
     "data": {
      "text/plain": [
       "['41.190.92.99:43871',\n",
       " '190.0.53.26:34212',\n",
       " '77.119.237.96:30203',\n",
       " '101.255.120.249:54225',\n",
       " '91.200.166.200:3128']"
      ]
     },
     "execution_count": 2,
     "metadata": {},
     "output_type": "execute_result"
    }
   ],
   "source": [
    "proxy_ips = []\n",
    "\n",
    "# 使用 GET 方式取得網頁資訊\n",
    "resp  = requests.get(' https://free-proxy-list.net/')\n",
    "# 以 BeautifulSoup 解析 HTML 原始碼\n",
    "soup = BeautifulSoup(resp.text,'html.parser') #指定html.parser作為解析器\n",
    "\n",
    "table = soup.find(name='table',attrs={'id':'proxylisttable'})\n",
    "tbody = table.find('tbody')\n",
    "for tr in tbody:\n",
    "    ip = tr.td.string\n",
    "    port = tr.td.next_sibling.string #.next_sibling:獲取了該節點的下一個兄弟節點\n",
    "    proxy_ips.append(ip + \":\" + port)\n",
    "proxy_ips[:5]"
   ]
  },
  {
   "cell_type": "code",
   "execution_count": 3,
   "metadata": {
    "colab": {},
    "colab_type": "code",
    "id": "75dIsHjiVoCi"
   },
   "outputs": [
    {
     "name": "stdout",
     "output_type": "stream",
     "text": [
      "Use 101.255.75.46:44855\n",
      "Fail\n",
      "Use 187.95.27.204:20183\n",
      "Fail\n",
      "Use 134.35.254.162:8080\n",
      "Fail\n",
      "Use 212.154.58.98:35116\n",
      "Fail\n",
      "Use 1.186.139.9:54754\n",
      "Fail\n",
      "Use 109.75.67.153:44151\n",
      "Fail\n",
      "Use 183.89.12.106:8080\n",
      "Your IP address: 183.89.12.106\n",
      "Use 168.197.106.139:3128\n",
      "Fail\n",
      "Use 101.255.75.46:44855\n",
      "Fail\n",
      "Use 200.69.83.50:9991\n",
      "Your IP address: 200.69.83.50\n"
     ]
    }
   ],
   "source": [
    "for i in range(10):\n",
    "    ip = random.choice(proxy_ips)\n",
    "    print('Use', ip)\n",
    "    try:\n",
    "        resp = requests.get('http://ip.filefab.com/index.php',\n",
    "                        proxies={'http': ip, 'https': ip}, timeout=10)\n",
    "        soup = BeautifulSoup(resp.text, 'html5lib')\n",
    "        print(soup.find('h1', id='ipd').text.strip())\n",
    "    except:\n",
    "        print('Fail')"
   ]
  },
  {
   "cell_type": "code",
   "execution_count": null,
   "metadata": {},
   "outputs": [],
   "source": []
  }
 ],
 "metadata": {
  "colab": {
   "name": "homework.ipynb",
   "provenance": []
  },
  "kernelspec": {
   "display_name": "Python 3",
   "language": "python",
   "name": "python3"
  },
  "language_info": {
   "codemirror_mode": {
    "name": "ipython",
    "version": 3
   },
   "file_extension": ".py",
   "mimetype": "text/x-python",
   "name": "python",
   "nbconvert_exporter": "python",
   "pygments_lexer": "ipython3",
   "version": "3.7.4"
  }
 },
 "nbformat": 4,
 "nbformat_minor": 1
}
