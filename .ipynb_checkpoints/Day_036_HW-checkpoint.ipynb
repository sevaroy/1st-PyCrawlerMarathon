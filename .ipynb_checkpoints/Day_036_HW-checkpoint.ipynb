{
 "cells": [
  {
   "cell_type": "markdown",
   "metadata": {},
   "source": [
    "# 加速：非同步爬蟲\n",
    "\n",
    "* 了解非同步爬蟲加速原理與實作"
   ]
  },
  {
   "cell_type": "markdown",
   "metadata": {},
   "source": [
    "## 作業目標\n",
    "\n",
    "* 比較一下非同步爬蟲跟多線程爬蟲的差異是什麼？各自的優缺點為何？"
   ]
  },
  {
   "cell_type": "markdown",
   "metadata": {
    "scrolled": true
   },
   "source": [
    "非同步\n",
    "1.每個請求送出後不需等待，直接繼續執行後面的工作程序，之前的請求陸續得到結果後，再由接收回應請求的程序處理回傳結果。\n",
    "可省略大多數等待的時間，並且不需要知道之前的請求的處理狀況。\n",
    "2.非同步的執行效率高，節省時間，但是會佔用更多的資源，也不利於我們對程序進行控制\n",
    "\n",
    "多線程\n",
    "1.同時多個執行緒一起執行，對於網頁解析需要較多時間的爬蟲來講，多線程同時解析多個網頁，減少等待多個網頁解析的時間\n",
    "2.相對的每個執行緒也是必須等待上一個的結果後，才能進行後續的工作。\n",
    "3.就一般同步的程序而言，多線程可以減少等待的時間，同時有利於我們對流程進行控制，避免很多不可掌控的意外情況"
   ]
  },
  {
   "cell_type": "code",
   "execution_count": null,
   "metadata": {},
   "outputs": [],
   "source": []
  }
 ],
 "metadata": {
  "colab": {
   "name": "homework.ipynb",
   "provenance": []
  },
  "kernelspec": {
   "display_name": "Python 3",
   "language": "python",
   "name": "python3"
  },
  "language_info": {
   "codemirror_mode": {
    "name": "ipython",
    "version": 3
   },
   "file_extension": ".py",
   "mimetype": "text/x-python",
   "name": "python",
   "nbconvert_exporter": "python",
   "pygments_lexer": "ipython3",
   "version": "3.7.4"
  }
 },
 "nbformat": 4,
 "nbformat_minor": 1
}
