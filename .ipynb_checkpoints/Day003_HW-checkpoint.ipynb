{
 "cells": [
  {
   "cell_type": "markdown",
   "metadata": {},
   "source": [
    "# Python 下載XML檔案與解析\n",
    "\n",
    "\n",
    "* 了解 xml 檔案格式與內容\n",
    "* 能夠利用套件存取 xml 格式的檔案\n"
   ]
  },
  {
   "cell_type": "markdown",
   "metadata": {},
   "source": [
    "## 作業目標\n",
    "\n",
    "* 比較一下範例檔案中的「File I/O」與「xmltodict」讀出來的內容有什麼差異\n",
    "\n",
    "* 根據範例檔案的結果：\n",
    "    1. 請問高雄市有多少地區有溫度資料？\n",
    "    2. 請取出每一個地區所記錄的第一個時間點跟溫度\n",
    "    3. 請取出第一個地區所記錄的每一個時間點跟溫度"
   ]
  },
  {
   "cell_type": "markdown",
   "metadata": {},
   "source": [
    "### 比較一下範例檔案中的「File I/O」與「xmltodict」讀出來的內容有什麼差異\n"
   ]
  },
  {
   "cell_type": "code",
   "execution_count": null,
   "metadata": {},
   "outputs": [],
   "source": [
    "'''\n",
    "Your Code\n",
    "'''"
   ]
  },
  {
   "cell_type": "markdown",
   "metadata": {},
   "source": [
    "### 根據範例檔案的結果：\n",
    "\n",
    "1. 請問高雄市有多少地區有溫度資料？\n",
    "2. 請取出每一個地區所記錄的第一個時間點跟溫度\n",
    "3. 請取出第一個地區所記錄的每一個時間點跟溫度"
   ]
  },
  {
   "cell_type": "code",
   "execution_count": 1,
   "metadata": {
    "scrolled": false
   },
   "outputs": [
    {
     "name": "stdout",
     "output_type": "stream",
     "text": [
      "66_Week24_EN.xml\n",
      "68_Week24_CH.xml\n",
      "67_Weekday_EN.xml\n",
      "65_Weekday_CH.xml\n",
      "09020_72hr_CH.xml\n",
      "10002_72hr_EN.xml\n",
      "10017_72hr_EN.xml\n",
      "10014_Week24_EN.xml\n",
      "67_72hr_EN.xml\n",
      "10008_72hr_CH.xml\n",
      "TAIWAN_72hr_EN.xml\n",
      "10009_Week24_CH.xml\n",
      "10007_Week24_EN.xml\n",
      "10010_Week24_EN.xml\n",
      "09007_72hr_CH.xml\n",
      "10014_72hr_CH.xml\n",
      "68_Weekday_EN.xml\n",
      "64_72hr_CH.xml\n",
      "10017_Week24_EN.xml\n",
      "10020_Week24_CH.xml\n",
      "10013_Week24_EN.xml\n",
      "10004_Week24_EN.xml\n",
      "10020_Weekday_EN.xml\n",
      "63_Weekday_CH.xml\n",
      "10020_72hr_EN.xml\n",
      "65_Week24_EN.xml\n",
      "09020_Weekday_EN.xml\n",
      "10004_72hr_CH.xml\n",
      "10018_72hr_CH.xml\n",
      "66_Weekday_EN.xml\n",
      "10007_72hr_EN.xml\n",
      "68_72hr_CH.xml\n",
      "TAIWAN_Week24_EN.xml\n",
      "64_Weekday_CH.xml\n",
      "65_Week24_CH.xml\n",
      "09020_Weekday_CH.xml\n",
      "10004_72hr_EN.xml\n",
      "66_Weekday_CH.xml\n",
      "10018_72hr_EN.xml\n",
      "10007_72hr_CH.xml\n",
      "68_72hr_EN.xml\n",
      "TAIWAN_Week24_CH.xml\n",
      "64_Weekday_EN.xml\n",
      "10017_Week24_CH.xml\n",
      "10020_Week24_EN.xml\n",
      "10013_Week24_CH.xml\n",
      "10020_Weekday_CH.xml\n",
      "10004_Week24_CH.xml\n",
      "10020_72hr_CH.xml\n",
      "63_Weekday_EN.xml\n",
      "10014_Week24_CH.xml\n",
      "10017_72hr_CH.xml\n",
      "67_72hr_CH.xml\n",
      "10008_72hr_EN.xml\n",
      "TAIWAN_72hr_CH.xml\n",
      "10007_Week24_CH.xml\n",
      "10009_Week24_EN.xml\n",
      "09007_72hr_EN.xml\n",
      "10010_Week24_CH.xml\n",
      "10014_72hr_EN.xml\n",
      "68_Weekday_CH.xml\n",
      "64_72hr_EN.xml\n",
      "68_Week24_EN.xml\n",
      "66_Week24_CH.xml\n",
      "67_Weekday_CH.xml\n",
      "65_Weekday_EN.xml\n",
      "09020_72hr_EN.xml\n",
      "10002_72hr_CH.xml\n",
      "10007_Weekday_CH.xml\n",
      "10005_Weekday_EN.xml\n",
      "10008_Week24_EN.xml\n",
      "10010_Weekday_EN.xml\n",
      "10018_Weekday_EN.xml\n",
      "10002_Week24_CH.xml\n",
      "10005_72hr_CH.xml\n",
      "10015_Week24_CH.xml\n",
      "09020_Week24_CH.xml\n",
      "10010_72hr_CH.xml\n",
      "10015_Weekday_CH.xml\n",
      "10017_Weekday_EN.xml\n",
      "10002_Weekday_EN.xml\n",
      "63_Week24_CH.xml\n",
      "09007_Weekday_CH.xml\n",
      "10008_Weekday_CH.xml\n",
      "10013_72hr_EN.xml\n",
      "63_72hr_EN.xml\n",
      "67_Week24_CH.xml\n",
      "65_72hr_CH.xml\n",
      "10015_72hr_CH.xml\n",
      "10009_Weekday_CH.xml\n",
      "10014_Weekday_CH.xml\n",
      "10009_72hr_CH.xml\n",
      "66_72hr_EN.xml\n",
      "TAIWAN_Weekday_CH.xml\n",
      "10016_72hr_EN.xml\n",
      "64_Week24_CH.xml\n",
      "10016_Weekday_EN.xml\n",
      "09007_Week24_EN.xml\n",
      "sample.xml\n",
      "10005_Week24_CH.xml\n",
      "10013_Weekday_CH.xml\n",
      "10016_Week24_CH.xml\n",
      "10018_Week24_EN.xml\n",
      "10004_Weekday_EN.xml\n",
      "09007_Week24_CH.xml\n",
      "10005_Week24_EN.xml\n",
      "10013_Weekday_EN.xml\n",
      "10018_Week24_CH.xml\n",
      "10004_Weekday_CH.xml\n",
      "10016_Week24_EN.xml\n",
      "65_72hr_EN.xml\n",
      "10009_Weekday_EN.xml\n",
      "10015_72hr_EN.xml\n",
      "10014_Weekday_EN.xml\n",
      "10009_72hr_EN.xml\n",
      "TAIWAN_Weekday_EN.xml\n",
      "66_72hr_CH.xml\n",
      "10016_72hr_CH.xml\n",
      "64_Week24_EN.xml\n",
      "10016_Weekday_CH.xml\n",
      "10010_72hr_EN.xml\n",
      "10015_Weekday_EN.xml\n",
      "10002_Weekday_CH.xml\n",
      "10017_Weekday_CH.xml\n",
      "63_Week24_EN.xml\n",
      "10008_Weekday_EN.xml\n",
      "09007_Weekday_EN.xml\n",
      "10013_72hr_CH.xml\n",
      "63_72hr_CH.xml\n",
      "67_Week24_EN.xml\n",
      "10007_Weekday_EN.xml\n",
      "10010_Weekday_CH.xml\n",
      "10005_Weekday_CH.xml\n",
      "10008_Week24_CH.xml\n",
      "10018_Weekday_CH.xml\n",
      "10002_Week24_EN.xml\n",
      "10005_72hr_EN.xml\n",
      "10015_Week24_EN.xml\n",
      "09020_Week24_EN.xml\n"
     ]
    }
   ],
   "source": [
    "import os, sys\n",
    "dirs = os.listdir('./data/example')\n",
    "\n",
    "for file in dirs:\n",
    "    print(file)"
   ]
  },
  {
   "cell_type": "code",
   "execution_count": 2,
   "metadata": {},
   "outputs": [],
   "source": [
    "import urllib.request\n",
    "import zipfile\n",
    "res = \"http://opendata.cwb.gov.tw/govdownload?dataid=F-D0047-093&authorizationkey=rdec-key-123-45678-011121314\"\n",
    "urllib.request.urlretrieve(res,'./data/sample.zip')\n",
    "\n",
    "f = zipfile.ZipFile('./data/sample.zip')\n",
    "f.extractall('./data')"
   ]
  },
  {
   "cell_type": "code",
   "execution_count": null,
   "metadata": {},
   "outputs": [],
   "source": [
    "%pip install xmltodict"
   ]
  },
  {
   "cell_type": "code",
   "execution_count": null,
   "metadata": {},
   "outputs": [],
   "source": []
  },
  {
   "cell_type": "code",
   "execution_count": 3,
   "metadata": {},
   "outputs": [
    {
     "name": "stdout",
     "output_type": "stream",
     "text": [
      "高雄市有38個地區有溫度資料\n"
     ]
    }
   ],
   "source": [
    "# 1. 請問高雄市有多少地區有溫度資料？\n",
    "\n",
    "import xmltodict\n",
    "\n",
    "count_number = 0\n",
    "\n",
    "with open('./data/64_72hr_CH.xml', encoding='UTF-8-sig') as fd:\n",
    "    doc = xmltodict.parse(fd.read())\n",
    "\n",
    "sect_with_tempers = doc[\"cwbopendata\"][\"dataset\"][\"locations\"][\"location\"]\n",
    "for sect_with_temper in sect_with_tempers:\n",
    "    for weatherElement in sect_with_temper['weatherElement']:\n",
    "        if weatherElement['description'] == '溫度':\n",
    "            count_number += 1\n",
    "\n",
    "print(\"高雄市有%s個地區有溫度資料\" % count_number)"
   ]
  },
  {
   "cell_type": "code",
   "execution_count": 4,
   "metadata": {},
   "outputs": [
    {
     "name": "stdout",
     "output_type": "stream",
     "text": [
      "鹽埕區 2019-12-12T00:00:00+08:00 20\n",
      "鼓山區 2019-12-12T00:00:00+08:00 20\n",
      "左營區 2019-12-12T00:00:00+08:00 19\n",
      "楠梓區 2019-12-12T00:00:00+08:00 19\n",
      "三民區 2019-12-12T00:00:00+08:00 20\n",
      "新興區 2019-12-12T00:00:00+08:00 20\n",
      "前金區 2019-12-12T00:00:00+08:00 20\n",
      "苓雅區 2019-12-12T00:00:00+08:00 20\n",
      "前鎮區 2019-12-12T00:00:00+08:00 20\n",
      "旗津區 2019-12-12T00:00:00+08:00 20\n",
      "小港區 2019-12-12T00:00:00+08:00 20\n",
      "鳳山區 2019-12-12T00:00:00+08:00 20\n",
      "林園區 2019-12-12T00:00:00+08:00 20\n",
      "大寮區 2019-12-12T00:00:00+08:00 20\n",
      "大樹區 2019-12-12T00:00:00+08:00 18\n",
      "大社區 2019-12-12T00:00:00+08:00 18\n",
      "仁武區 2019-12-12T00:00:00+08:00 18\n",
      "鳥松區 2019-12-12T00:00:00+08:00 19\n",
      "岡山區 2019-12-12T00:00:00+08:00 18\n",
      "橋頭區 2019-12-12T00:00:00+08:00 19\n",
      "燕巢區 2019-12-12T00:00:00+08:00 18\n",
      "田寮區 2019-12-12T00:00:00+08:00 17\n",
      "阿蓮區 2019-12-12T00:00:00+08:00 17\n",
      "路竹區 2019-12-12T00:00:00+08:00 18\n",
      "湖內區 2019-12-12T00:00:00+08:00 18\n",
      "茄萣區 2019-12-12T00:00:00+08:00 18\n",
      "永安區 2019-12-12T00:00:00+08:00 19\n",
      "彌陀區 2019-12-12T00:00:00+08:00 19\n",
      "梓官區 2019-12-12T00:00:00+08:00 18\n",
      "旗山區 2019-12-12T00:00:00+08:00 18\n",
      "美濃區 2019-12-12T00:00:00+08:00 18\n",
      "六龜區 2019-12-12T00:00:00+08:00 17\n",
      "甲仙區 2019-12-12T00:00:00+08:00 15\n",
      "杉林區 2019-12-12T00:00:00+08:00 18\n",
      "內門區 2019-12-12T00:00:00+08:00 14\n",
      "茂林區 2019-12-12T00:00:00+08:00 16\n",
      "桃源區 2019-12-12T00:00:00+08:00 14\n",
      "那瑪夏區 2019-12-12T00:00:00+08:00 13\n"
     ]
    }
   ],
   "source": [
    "# 2. 請取出每一個地區所記錄的第一個時間點跟溫度\n",
    "import xmltodict\n",
    "\n",
    "with open('./data/64_72hr_CH.xml',encoding='UTF-8') as fd:\n",
    "    doc = dict(xmltodict.parse(fd.read()))\n",
    "\n",
    "sect_with_tempers = doc[\"cwbopendata\"][\"dataset\"][\"locations\"][\"location\"]\n",
    "\n",
    "for sect_with_temper in sect_with_tempers:\n",
    "    for weatherElement in sect_with_temper['weatherElement']:\n",
    "        if weatherElement['description'] == '溫度':\n",
    "            print(sect_with_temper['locationName'],weatherElement['time'][0]['dataTime'],weatherElement['time'][0]  ['elementValue']['value'])"
   ]
  },
  {
   "cell_type": "code",
   "execution_count": 5,
   "metadata": {},
   "outputs": [
    {
     "name": "stdout",
     "output_type": "stream",
     "text": [
      "2019-12-12T00:00:00+08:00 20\n",
      "2019-12-12T03:00:00+08:00 19\n",
      "2019-12-12T06:00:00+08:00 19\n",
      "2019-12-12T09:00:00+08:00 20\n",
      "2019-12-12T12:00:00+08:00 25\n",
      "2019-12-12T15:00:00+08:00 25\n",
      "2019-12-12T18:00:00+08:00 23\n",
      "2019-12-12T21:00:00+08:00 21\n",
      "2019-12-13T00:00:00+08:00 20\n",
      "2019-12-13T03:00:00+08:00 19\n",
      "2019-12-13T06:00:00+08:00 18\n",
      "2019-12-13T09:00:00+08:00 21\n",
      "2019-12-13T12:00:00+08:00 27\n",
      "2019-12-13T15:00:00+08:00 27\n",
      "2019-12-13T18:00:00+08:00 25\n",
      "2019-12-13T21:00:00+08:00 22\n",
      "2019-12-14T00:00:00+08:00 21\n",
      "2019-12-14T03:00:00+08:00 20\n",
      "2019-12-14T06:00:00+08:00 19\n",
      "2019-12-14T09:00:00+08:00 21\n",
      "2019-12-14T12:00:00+08:00 26\n",
      "2019-12-14T15:00:00+08:00 27\n",
      "2019-12-14T18:00:00+08:00 25\n",
      "2019-12-14T21:00:00+08:00 23\n"
     ]
    }
   ],
   "source": [
    "# 3. 請取出第一個地區所記錄的每一個時間點跟溫度\n",
    "\n",
    "with open('./data/64_72hr_CH.xml', encoding='UTF-8') as fd:\n",
    "    doc = dict(xmltodict.parse(fd.read()))\n",
    "\n",
    "sect_with_tempers = doc[\"cwbopendata\"][\"dataset\"][\"locations\"][\"location\"]\n",
    "\n",
    "for sect_with_temper in sect_with_tempers:\n",
    "    if sect_with_temper['locationName'] == '鹽埕區':\n",
    "        for weatherElement in sect_with_temper['weatherElement']:\n",
    "            if weatherElement['description'] == '溫度':\n",
    "                for time in weatherElement['time']:\n",
    "                    print(time['dataTime'], time['elementValue']['value'])"
   ]
  },
  {
   "cell_type": "code",
   "execution_count": null,
   "metadata": {},
   "outputs": [],
   "source": []
  }
 ],
 "metadata": {
  "kernelspec": {
   "display_name": "Python 3",
   "language": "python",
   "name": "python3"
  },
  "language_info": {
   "codemirror_mode": {
    "name": "ipython",
    "version": 3
   },
   "file_extension": ".py",
   "mimetype": "text/x-python",
   "name": "python",
   "nbconvert_exporter": "python",
   "pygments_lexer": "ipython3",
   "version": "3.7.4"
  }
 },
 "nbformat": 4,
 "nbformat_minor": 2
}
