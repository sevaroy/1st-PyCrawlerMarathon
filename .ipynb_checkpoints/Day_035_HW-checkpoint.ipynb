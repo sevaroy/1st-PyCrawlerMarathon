{
 "cells": [
  {
   "cell_type": "markdown",
   "metadata": {},
   "source": [
    "# 加速：多線程爬蟲\n",
    "\n",
    "\n",
    "\n",
    "* 了解知乎 API 使用方式與回傳內容\n",
    "* 撰寫程式存取 API 且添加標頭"
   ]
  },
  {
   "cell_type": "markdown",
   "metadata": {},
   "source": [
    "## 作業目標\n",
    "\n",
    "* 找一個之前實作過的爬蟲改用多線程改寫，比較前後時間的差異。\n",
    "\n",
    "\n",
    "\n"
   ]
  },
  {
   "cell_type": "code",
   "execution_count": 1,
   "metadata": {},
   "outputs": [],
   "source": [
    "import requests\n",
    "import time\n",
    "import re\n",
    "from bs4 import BeautifulSoup"
   ]
  },
  {
   "cell_type": "code",
   "execution_count": 2,
   "metadata": {},
   "outputs": [
    {
     "name": "stdout",
     "output_type": "stream",
     "text": [
      "網路爬蟲: %E7%B6%B2%E8%B7%AF%E7%88%AC%E8%9F%B2\n",
      "/wiki/%E7%B6%B2%E8%B7%AF%E7%88%AC%E8%9F%B2\n"
     ]
    }
   ],
   "source": [
    "input_keyword = \"網路爬蟲\"  \n",
    "\n",
    "utf8_url = repr(input_keyword.encode('UTF-8')).upper()  \n",
    "utf8_url = utf8_url.replace(\"\\\\X\", \"%\")                 \n",
    "print(\"%s: %s\" % (input_keyword, utf8_url[2:-1:1]))     \n",
    "\n",
    "root_keyword_link = '/wiki/' + utf8_url[2:-1:1]\n",
    "print(root_keyword_link)"
   ]
  },
  {
   "cell_type": "code",
   "execution_count": 5,
   "metadata": {},
   "outputs": [],
   "source": [
    "urls = []\n",
    "def WikiArticle(key_word_link, key_word, recursive):\n",
    "    if (recursive <= max_recursive_depth):\n",
    "        print(\"遞迴層[%d] - %s (%s)\" % (recursive, key_word_link, key_word))\n",
    "        # 模擬封包的標頭\n",
    "        headers = {\n",
    "            'authority': 'zh.wikipedia.org',\n",
    "            'method': 'GET',\n",
    "            'path': '/wiki/' + key_word_link,\n",
    "            'scheme': 'https',\n",
    "            'accept': 'text/html,application/xhtml+xml,application/xml;q=0.9,image/webp,image/apng,*/*;q=0.8,application/signed-exchange;v=b3',\n",
    "            'accept-encoding': 'gzip, deflate, br',\n",
    "            'accept-language': 'zh-TW,zh;q=0.9,en-US;q=0.8,en;q=0.7,zh-CN;q=0.6',\n",
    "            'cookie': 'GeoIP=TW:TPE:Taipei:25.05:121.53:v4; TBLkisOn=0; mwPhp7Seed=8b8; WMF-Last-Access-Global=04-Jun-2019; WMF-Last-Access=04-Jun-2019',\n",
    "            'dnt': '1',\n",
    "            #'if-modified-since': 'Tue, 04 Jun 2019 12:03:22 GMT',\n",
    "            'referer': 'https://zh.wikipedia.org/wiki/Wikipedia:%E9%A6%96%E9%A1%B5',\n",
    "            'upgrade-insecure-requests': '1',\n",
    "            'user-agent': 'Mozilla/5.0 (Windows NT 10.0; Win64; x64) AppleWebKit/537.36 (KHTML, like Gecko) Chrome/74.0.3729.169 Safari/537.36'\n",
    "        }    \n",
    "        url = 'https://zh.wikipedia.org' + key_word_link  # 組合關鍵字查詢URL\n",
    "        resp = requests.get(url, headers=headers)\n",
    "        resp.encoding = 'utf-8'\n",
    "\n",
    "        html = BeautifulSoup(resp.text, \"lxml\")\n",
    "        content = html.find(name='div', attrs={'id':'mw-content-text'}).find_all(name='p')\n",
    "        \n",
    "        for ext_link in content:\n",
    "            a_tag = ext_link.find_all('a', href=re.compile(\"^(/wiki/)((?!;)\\S)*$\"))\n",
    "            if len(a_tag) > 0:\n",
    "                for link_string in a_tag:\n",
    "                    a_link = link_string[\"href\"]       # 外部連結的網址\n",
    "                    a_keyword = link_string.get_text()  # 外部連結的中文名稱\n",
    "                    print(\"外部連結: [%s] %s\" % (a_keyword, a_link))\n",
    "                    urls.append(a_link)"
   ]
  },
  {
   "cell_type": "code",
   "execution_count": 6,
   "metadata": {},
   "outputs": [
    {
     "name": "stdout",
     "output_type": "stream",
     "text": [
      "遞迴層[0] - /wiki/%E7%B6%B2%E8%B7%AF%E7%88%AC%E8%9F%B2 (網路爬蟲)\n",
      "外部連結: [全球資訊網] /wiki/%E4%B8%87%E7%BB%B4%E7%BD%91\n",
      "外部連結: [網路機器人] /wiki/%E7%BD%91%E7%BB%9C%E6%9C%BA%E5%99%A8%E4%BA%BA\n",
      "外部連結: [網路] /wiki/%E7%BD%91%E7%BB%9C%E6%90%9C%E7%B4%A2%E5%BC%95%E6%93%8E\n",
      "外部連結: [搜尋引擎] /wiki/%E6%90%9C%E7%B4%A2%E5%BC%95%E6%93%8E\n",
      "外部連結: [robots.txt] /wiki/Robots.txt\n",
      "外部連結: [網站] /wiki/%E7%BD%91%E7%AB%99\n",
      "外部連結: [超連結] /wiki/%E8%B6%85%E9%80%A3%E7%B5%90\n",
      "外部連結: [HTML] /wiki/HTML\n",
      "外部連結: [網頁] /wiki/%E7%B6%B2%E9%A0%81\n",
      "外部連結: [網際網路] /wiki/%E4%BA%92%E8%81%94%E7%BD%91\n",
      "外部連結: [伺服器] /wiki/%E6%9C%8D%E5%8A%A1%E5%99%A8\n",
      "外部連結: [超文字傳輸協定] /wiki/%E8%B6%85%E6%96%87%E6%9C%AC%E5%82%B3%E8%BC%B8%E5%8D%94%E5%AE%9A\n"
     ]
    }
   ],
   "source": [
    "max_recursive_depth = 1\n",
    "WikiArticle(root_keyword_link, input_keyword, 0)\n"
   ]
  },
  {
   "cell_type": "code",
   "execution_count": 7,
   "metadata": {},
   "outputs": [
    {
     "name": "stdout",
     "output_type": "stream",
     "text": [
      "12.594649076461792\n"
     ]
    }
   ],
   "source": [
    "startTime = time.time()\n",
    "for url in urls:\n",
    "    target = 'https://zh.wikipedia.org' + url\n",
    "    requests.get(target)\n",
    "finishTime = time.time()\n",
    "print(finishTime - startTime) # 正常情況的爬蟲所需時間\n"
   ]
  },
  {
   "cell_type": "code",
   "execution_count": 8,
   "metadata": {},
   "outputs": [
    {
     "name": "stdout",
     "output_type": "stream",
     "text": [
      "0.0002758502960205078\n"
     ]
    }
   ],
   "source": [
    "import _thread\n",
    "startTime = time.time()\n",
    "for url in urls:\n",
    "    target = 'https://zh.wikipedia.org' + url\n",
    "    _thread.start_new_thread( requests.get, (target, ) )\n",
    "finishTime = time.time()\n",
    "print(finishTime - startTime) # 利用 thread 的爬蟲所需時間\n"
   ]
  },
  {
   "cell_type": "code",
   "execution_count": 9,
   "metadata": {},
   "outputs": [
    {
     "name": "stdout",
     "output_type": "stream",
     "text": [
      "12\n"
     ]
    }
   ],
   "source": [
    "print(len(urls))\n"
   ]
  },
  {
   "cell_type": "code",
   "execution_count": null,
   "metadata": {},
   "outputs": [],
   "source": []
  }
 ],
 "metadata": {
  "colab": {
   "name": "homework.ipynb",
   "provenance": []
  },
  "kernelspec": {
   "display_name": "Python 3",
   "language": "python",
   "name": "python3"
  },
  "language_info": {
   "codemirror_mode": {
    "name": "ipython",
    "version": 3
   },
   "file_extension": ".py",
   "mimetype": "text/x-python",
   "name": "python",
   "nbconvert_exporter": "python",
   "pygments_lexer": "ipython3",
   "version": "3.7.4"
  }
 },
 "nbformat": 4,
 "nbformat_minor": 1
}
