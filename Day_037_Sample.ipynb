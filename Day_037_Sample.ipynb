{
 "cells": [
  {
   "cell_type": "markdown",
   "metadata": {},
   "source": [
    "# 自動化更新機制\n",
    "\n",
    "\n",
    "* 如何定期執行爬蟲程式\n",
    "* 更新時需要注意的事情是什麼？\n"
   ]
  },
  {
   "cell_type": "markdown",
   "metadata": {},
   "source": [
    "### 方法一：在迴圈中加上 Sleep"
   ]
  },
  {
   "cell_type": "code",
   "execution_count": 1,
   "metadata": {},
   "outputs": [
    {
     "name": "stdout",
     "output_type": "stream",
     "text": [
      "2020-01-21 14:55:14\n",
      "2020-01-21 14:55:16\n",
      "2020-01-21 14:55:18\n",
      "2020-01-21 14:55:20\n",
      "2020-01-21 14:55:22\n"
     ]
    }
   ],
   "source": [
    "import time\n",
    "\n",
    "def timer(n): \n",
    "    print(time.strftime('%Y-%m-%d %X', time.localtime()))\n",
    "    return\n",
    "\n",
    "count = 0\n",
    "while True:  \n",
    "    print(time.strftime('%Y-%m-%d %X', time.localtime()))  \n",
    "    time.sleep(2)\n",
    "    count += 1\n",
    "    if count >= 5:\n",
    "        break\n"
   ]
  },
  {
   "cell_type": "markdown",
   "metadata": {},
   "source": [
    "### 方法二：利用 threading 的 Timer"
   ]
  },
  {
   "cell_type": "code",
   "execution_count": 2,
   "metadata": {},
   "outputs": [
    {
     "name": "stdout",
     "output_type": "stream",
     "text": [
      "2020-01-21 14:55:24\n"
     ]
    }
   ],
   "source": [
    "import time\n",
    "from threading import Timer\n",
    "\n",
    "def printHello(count):\n",
    "    count += 1\n",
    "    if count >= 5:\n",
    "        return\n",
    "    print(time.strftime('%Y-%m-%d %X', time.localtime()))\n",
    "    t = Timer(2, printHello, (count,)) \n",
    "    t.start() \n",
    "\n",
    "count = 0\n",
    "printHello(count)"
   ]
  },
  {
   "cell_type": "markdown",
   "metadata": {},
   "source": [
    "### 方法三：第三方套件 schedule"
   ]
  },
  {
   "cell_type": "code",
   "execution_count": 4,
   "metadata": {},
   "outputs": [
    {
     "name": "stdout",
     "output_type": "stream",
     "text": [
      "Collecting schedule\n",
      "  Downloading https://files.pythonhosted.org/packages/57/22/3a709462eb02412bd1145f6e53604f36bba191e3e4e397bea4a718fec38c/schedule-0.6.0-py2.py3-none-any.whl\n",
      "Installing collected packages: schedule\n",
      "Successfully installed schedule-0.6.0\n"
     ]
    }
   ],
   "source": [
    "! pip install schedule"
   ]
  },
  {
   "cell_type": "code",
   "execution_count": null,
   "metadata": {},
   "outputs": [
    {
     "name": "stdout",
     "output_type": "stream",
     "text": [
      "2020-01-21 14:55:46\n",
      "2020-01-21 14:55:48\n",
      "2020-01-21 14:55:50\n",
      "2020-01-21 14:55:52\n",
      "2020-01-21 14:55:54\n",
      "2020-01-21 14:55:56\n",
      "2020-01-21 14:55:58\n",
      "2020-01-21 14:56:00\n",
      "2020-01-21 14:56:02\n",
      "2020-01-21 14:56:04\n",
      "2020-01-21 14:56:06\n",
      "2020-01-21 14:56:08\n",
      "2020-01-21 14:56:10\n",
      "2020-01-21 14:56:12\n",
      "2020-01-21 14:56:14\n",
      "2020-01-21 14:56:16\n",
      "2020-01-21 14:56:18\n",
      "2020-01-21 14:56:20\n",
      "2020-01-21 14:56:22\n",
      "2020-01-21 14:56:24\n",
      "2020-01-21 14:56:26\n",
      "2020-01-21 14:56:28\n",
      "2020-01-21 14:56:30\n",
      "2020-01-21 14:56:32\n",
      "2020-01-21 14:56:34\n",
      "2020-01-21 14:56:36\n",
      "2020-01-21 14:56:38\n",
      "2020-01-21 14:56:40\n",
      "2020-01-21 14:56:42\n",
      "2020-01-21 14:56:44\n",
      "2020-01-21 14:56:46\n",
      "2020-01-21 14:56:48\n",
      "2020-01-21 14:56:50\n",
      "2020-01-21 14:56:52\n",
      "2020-01-21 14:56:54\n",
      "2020-01-21 14:56:56\n",
      "2020-01-21 14:56:58\n",
      "2020-01-21 14:57:00\n",
      "2020-01-21 14:57:02\n"
     ]
    }
   ],
   "source": [
    "import schedule\n",
    "import time\n",
    "\n",
    "def job():        \n",
    "    print(time.strftime('%Y-%m-%d %X', time.localtime()))\n",
    "\n",
    "schedule.every(2).seconds.do(job)\n",
    "\n",
    "while True:\n",
    "    schedule.run_pending()"
   ]
  },
  {
   "cell_type": "markdown",
   "metadata": {},
   "source": [
    "## 作業目標\n",
    "\n",
    "* 列舉一個是需要用自動化更新的機制來達成的爬蟲應用。"
   ]
  },
  {
   "cell_type": "code",
   "execution_count": null,
   "metadata": {},
   "outputs": [],
   "source": []
  }
 ],
 "metadata": {
  "kernelspec": {
   "display_name": "Python 3",
   "language": "python",
   "name": "python3"
  },
  "language_info": {
   "codemirror_mode": {
    "name": "ipython",
    "version": 3
   },
   "file_extension": ".py",
   "mimetype": "text/x-python",
   "name": "python",
   "nbconvert_exporter": "python",
   "pygments_lexer": "ipython3",
   "version": "3.7.4"
  }
 },
 "nbformat": 4,
 "nbformat_minor": 2
}
